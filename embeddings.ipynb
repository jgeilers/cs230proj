{
 "cells": [
  {
   "cell_type": "code",
   "execution_count": 1,
   "metadata": {},
   "outputs": [],
   "source": [
    "import io\n",
    "import tensorflow as tf\n",
    "import random\n",
    "from sklearn.model_selection import train_test_split"
   ]
  },
  {
   "cell_type": "code",
   "execution_count": 44,
   "metadata": {},
   "outputs": [],
   "source": [
    "def load_vectors(fname):\n",
    "    fin = io.open(fname, 'r', encoding='utf-8', newline='\\n', errors='ignore')\n",
    "    print(\"opened file: \", fin)\n",
    "    n, d = map(int, fin.readline().split())\n",
    "    print(\"n, d: \", n)\n",
    "    data = {}\n",
    "    i = 0\n",
    "    for line in fin:\n",
    "        if (i % 100 == 0): \n",
    "            tokens = line.rstrip().split(' ')\n",
    "            data[tokens[0]] = tokens[1: ]\n",
    "#             data[tokens[0]] = map(float, tokens[1:])\n",
    "        i+=1\n",
    "    return data"
   ]
  },
  {
   "cell_type": "code",
   "execution_count": 45,
   "metadata": {},
   "outputs": [
    {
     "name": "stdout",
     "output_type": "stream",
     "text": [
      "opened file:  <_io.TextIOWrapper name='cc.fr.300.vec' mode='r' encoding='utf-8'>\n",
      "n, d:  2000000\n"
     ]
    }
   ],
   "source": [
    "embeddings = load_vectors(\"cc.fr.300.vec\")"
   ]
  },
  {
   "cell_type": "code",
   "execution_count": 41,
   "metadata": {},
   "outputs": [
    {
     "ename": "TypeError",
     "evalue": "'dict_keys' object does not support indexing",
     "output_type": "error",
     "traceback": [
      "\u001b[0;31m---------------------------------------------------------------------------\u001b[0m",
      "\u001b[0;31mTypeError\u001b[0m                                 Traceback (most recent call last)",
      "\u001b[0;32m<ipython-input-41-1e26c2fef13d>\u001b[0m in \u001b[0;36m<module>\u001b[0;34m\u001b[0m\n\u001b[0;32m----> 1\u001b[0;31m \u001b[0mprint\u001b[0m\u001b[0;34m(\u001b[0m\u001b[0membeddings\u001b[0m\u001b[0;34m[\u001b[0m\u001b[0membeddings\u001b[0m\u001b[0;34m.\u001b[0m\u001b[0mkeys\u001b[0m\u001b[0;34m(\u001b[0m\u001b[0;34m)\u001b[0m\u001b[0;34m[\u001b[0m\u001b[0;36m0\u001b[0m\u001b[0;34m]\u001b[0m\u001b[0;34m]\u001b[0m\u001b[0;34m)\u001b[0m\u001b[0;34m\u001b[0m\u001b[0m\n\u001b[0m",
      "\u001b[0;31mTypeError\u001b[0m: 'dict_keys' object does not support indexing"
     ]
    }
   ],
   "source": []
  },
  {
   "cell_type": "code",
   "execution_count": 15,
   "metadata": {},
   "outputs": [],
   "source": [
    "def read_data(): \n",
    "    \n",
    "    src_data  = open(\"./training-giga-fren/giga-fren.release2.fixed.fr\", \"r\")\n",
    "    src = []\n",
    "    i = 0\n",
    "    for line in src_data:\n",
    "        if i % 500 == 0:\n",
    "            src.append(line)\n",
    "        i+=1\n",
    "\n",
    "    tgt_data = open(\"./training-giga-fren/giga-fren.release2.fixed.en\", \"r\")\n",
    "    tgt = []\n",
    "    i = 0\n",
    "    for line in tgt_data:\n",
    "        if i % 500 == 0: \n",
    "            tgt.append(line)\n",
    "        i+=1\n",
    "        \n",
    "    return src, tgt"
   ]
  },
  {
   "cell_type": "code",
   "execution_count": 20,
   "metadata": {},
   "outputs": [],
   "source": [
    "def split_data(X, Y): \n",
    "    x_train, x_dev, y_train, y_dev = train_test_split(X, Y, test_size=0.05, random_state=42)\n",
    "    x_train, x_test, y_train, y_test = train_test_split(x_train, y_train, test_size = 0.05556, random_state = 42)\n",
    "    \n",
    "    assert len(x_train) == len(y_train)\n",
    "    assert len(x_dev) == len(y_dev)\n",
    "    assert len(x_test) == len(y_test)\n",
    "    return ((x_train, x_dev, x_test), (y_train, y_dev, y_test))\n",
    "    "
   ]
  },
  {
   "cell_type": "code",
   "execution_count": 17,
   "metadata": {},
   "outputs": [],
   "source": [
    "src, tgt = read_data()\n"
   ]
  },
  {
   "cell_type": "code",
   "execution_count": 22,
   "metadata": {},
   "outputs": [],
   "source": [
    "x, y = split_data(src, tgt)"
   ]
  },
  {
   "cell_type": "code",
   "execution_count": null,
   "metadata": {},
   "outputs": [],
   "source": []
  }
 ],
 "metadata": {
  "kernelspec": {
   "display_name": "projectname",
   "language": "python",
   "name": "projectname"
  },
  "language_info": {
   "codemirror_mode": {
    "name": "ipython",
    "version": 3
   },
   "file_extension": ".py",
   "mimetype": "text/x-python",
   "name": "python",
   "nbconvert_exporter": "python",
   "pygments_lexer": "ipython3",
   "version": "3.6.5"
  }
 },
 "nbformat": 4,
 "nbformat_minor": 2
}
